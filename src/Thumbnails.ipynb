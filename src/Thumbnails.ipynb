{
 "cells": [
  {
   "cell_type": "markdown",
   "metadata": {},
   "source": [
    "## Thumbnail Creation\n",
    "Create a circular thumbnail for each movie based on an input image. "
   ]
  },
  {
   "cell_type": "code",
   "execution_count": 16,
   "metadata": {},
   "outputs": [],
   "source": [
    "import numpy as np\n",
    "import pandas as pd\n",
    "from PIL import Image, ImageDraw\n",
    "from PIL import Image, ImageDraw\n",
    "\n",
    "\n",
    "def draw_ellipse(image, bounds, width=1, outline='white', antialias=4):\n",
    "    \"\"\"Improved ellipse drawing function, based on PIL.ImageDraw.\"\"\"\n",
    "\n",
    "    # Use a single channel image (mode='L') as mask.\n",
    "    # The size of the mask can be increased relative to the imput image\n",
    "    # to get smoother looking results. \n",
    "    mask = Image.new(\n",
    "        size=[int(dim * antialias) for dim in image.size],\n",
    "        mode='L', color='black')\n",
    "    draw = ImageDraw.Draw(mask)\n",
    "\n",
    "    # draw outer shape in white (color) and inner shape in black (transparent)\n",
    "    for offset, fill in (width/-2.0, 'white'), (width/2.0, 'black'):\n",
    "        left, top = [(value + offset) * antialias for value in bounds[:2]]\n",
    "        right, bottom = [(value - offset) * antialias for value in bounds[2:]]\n",
    "        draw.ellipse([left, top, right, bottom], fill=fill)\n",
    "\n",
    "    # downsample the mask using PIL.Image.LANCZOS \n",
    "    # (a high-quality downsampling filter).\n",
    "    mask = mask.resize(image.size, Image.LANCZOS)\n",
    "    # paste outline color to input image through the mask\n",
    "    image.paste(outline, mask=mask)\n",
    "\n",
    "\n",
    "def transform_image(title, path, save_path):\n",
    "    # Open the input image as numpy array, convert to RGB\n",
    "    img=Image.open(f\"{path}{title}.jpg\").convert(\"RGB\")\n",
    "    h,w=img.size\n",
    "    \n",
    "    if h != w:\n",
    "        img = img.resize((h, h))\n",
    "        \n",
    "    h,w=img.size\n",
    "    \n",
    "    npImage=np.array(img)\n",
    "    \n",
    "\n",
    "    # Create same size alpha layer with circle\n",
    "    alpha = Image.new('L', img.size,0)\n",
    "    draw = ImageDraw.Draw(alpha)\n",
    "    draw.pieslice([0,0,h,w],0,360,fill=255)\n",
    "\n",
    "    # Convert alpha Image to numpy array\n",
    "    npAlpha=np.array(alpha)\n",
    "\n",
    "    # Add alpha layer to RGB\n",
    "    npImage=np.dstack((npImage,npAlpha))\n",
    "\n",
    "\n",
    "    result = Image.fromarray(npImage)\n",
    "        \n",
    "    # Add circle\n",
    "    width = int(h * 0.04)\n",
    "    half_width = int(width/2)\n",
    "    ellipse_box = [half_width, half_width, h-half_width, w-half_width]\n",
    "    draw_ellipse(result, ellipse_box, width=width, outline='black')\n",
    "    \n",
    "    \n",
    "    \n",
    "#     ellipse_box = [10, 10, h-10, w-10]\n",
    "#     draw_ellipse(result, ellipse_box, width=20, outline='black')\n",
    "    \n",
    "    result.save(f\"{save_path}{title}.png\")"
   ]
  },
  {
   "cell_type": "code",
   "execution_count": 17,
   "metadata": {},
   "outputs": [],
   "source": [
    "pixar = pd.read_csv(\"pixar_with_seed.csv\")\n",
    "disney = pd.read_csv(\"disney_with_seed.csv\")"
   ]
  },
  {
   "cell_type": "markdown",
   "metadata": {},
   "source": [
    "### Pixar"
   ]
  },
  {
   "cell_type": "code",
   "execution_count": 41,
   "metadata": {},
   "outputs": [],
   "source": [
    "titles = list(pixar.Title.values)\n",
    "titles = [title.lower().replace(\"·\", \" \").replace(\",\", \" \").replace(\".\", \" \").replace(\"'\", \" \").strip() for title in titles]\n",
    "titles = [title.replace(\"  \", \" \").replace(\"& \", \"\") for title in titles]"
   ]
  },
  {
   "cell_type": "code",
   "execution_count": 42,
   "metadata": {},
   "outputs": [],
   "source": [
    "for title in titles:\n",
    "    image = transform_image(title, path=\"images/pixar/\", save_path=\"images/pixar/small/\")"
   ]
  },
  {
   "cell_type": "markdown",
   "metadata": {},
   "source": [
    "### Disney"
   ]
  },
  {
   "cell_type": "code",
   "execution_count": 32,
   "metadata": {},
   "outputs": [],
   "source": [
    "titles = list(disney.Title.values)\n",
    "titles = [title.lower().replace(\"·\", \" \").replace(\",\", \" \").replace(\".\", \" \").replace(\"'\", \" \").strip() for title in titles]\n",
    "titles = [title.replace(\"  \", \" \").replace(\"& \", \"\").replace(\":\", \"\").replace(\"-\", \" \") for title in titles]"
   ]
  },
  {
   "cell_type": "code",
   "execution_count": 34,
   "metadata": {},
   "outputs": [],
   "source": [
    "for title in titles:\n",
    "    image = transform_image(title, path=\"images/disney/\", save_path=\"images/disney/small/\")"
   ]
  }
 ],
 "metadata": {
  "kernelspec": {
   "display_name": "Python 3",
   "language": "python",
   "name": "python3"
  },
  "language_info": {
   "codemirror_mode": {
    "name": "ipython",
    "version": 3
   },
   "file_extension": ".py",
   "mimetype": "text/x-python",
   "name": "python",
   "nbconvert_exporter": "python",
   "pygments_lexer": "ipython3",
   "version": "3.7.4"
  }
 },
 "nbformat": 4,
 "nbformat_minor": 4
}
